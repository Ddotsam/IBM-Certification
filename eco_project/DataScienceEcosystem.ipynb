{
 "cells": [
  {
   "cell_type": "markdown",
   "id": "8afca5cd-5fed-4ea8-b109-3a0a4f3c0394",
   "metadata": {},
   "source": [
    "# Data Science Tools and Ecosystem\n",
    "## Author:\n",
    "Mason Flannery"
   ]
  },
  {
   "cell_type": "markdown",
   "id": "a73f0297-ffeb-47d2-8d8a-469e6ca4bfed",
   "metadata": {},
   "source": [
    "In this notebook, Data Science Tools and Ecosystem are summarized."
   ]
  },
  {
   "cell_type": "markdown",
   "id": "658b7246-b21d-48b4-9c2c-58a84a068f26",
   "metadata": {},
   "source": [
    "**Objectives:**\n",
    "* List popular languages for Data Science\n",
    "* Convert minutes into hours\n",
    "* List common libraries for Data Science"
   ]
  },
  {
   "cell_type": "markdown",
   "id": "4b4fa276-b7b6-46bb-81f8-49848dff8902",
   "metadata": {
    "tags": []
   },
   "source": [
    "Some of the popular languages that Data Scientists use are:\n",
    "1. R\n",
    "2. Python\n",
    "3. Java"
   ]
  },
  {
   "cell_type": "markdown",
   "id": "a88c657c-72a3-44eb-a1b6-f23e3e763cd7",
   "metadata": {},
   "source": [
    "Some of the commonly used libraries used by Data Scientists include:\n",
    "1. ggplot\n",
    "2. tensorflow\n",
    "3. scikit-learn"
   ]
  },
  {
   "cell_type": "markdown",
   "id": "3d127e91-972b-4713-80f1-adfdeaf7cb1b",
   "metadata": {},
   "source": [
    "|Data Science Tools|\n",
    "|-|\n",
    "|Hadoop|\n",
    "|Apache Spark|\n",
    "|Jupyter Notebook|"
   ]
  },
  {
   "cell_type": "markdown",
   "id": "ed37e7f2-eaf4-42a3-892c-a2fe773bada2",
   "metadata": {
    "tags": []
   },
   "source": [
    "### Below are a few examples of evaluating arithmetic expressions in Python"
   ]
  },
  {
   "cell_type": "code",
   "execution_count": 2,
   "id": "c02c40dd-ba76-4bdc-8681-e533ace4e09c",
   "metadata": {
    "tags": []
   },
   "outputs": [
    {
     "data": {
      "text/plain": [
       "17"
      ]
     },
     "execution_count": 2,
     "metadata": {},
     "output_type": "execute_result"
    }
   ],
   "source": [
    "# This a simple arithmetic expression to mutiply then add integers.\n",
    "\n",
    "(3*4)+5"
   ]
  },
  {
   "cell_type": "code",
   "execution_count": 3,
   "id": "8831eb54-ffdd-45c9-9555-46c91ff20e32",
   "metadata": {
    "tags": []
   },
   "outputs": [
    {
     "data": {
      "text/plain": [
       "3.3333333333333335"
      ]
     },
     "execution_count": 3,
     "metadata": {},
     "output_type": "execute_result"
    }
   ],
   "source": [
    "# This will convert 200 minutes to hours by diving by 60.\n",
    "\n",
    "mins = 200\n",
    "hours = mins/60\n",
    "hours"
   ]
  }
 ],
 "metadata": {
  "kernelspec": {
   "display_name": "Python",
   "language": "python",
   "name": "conda-env-python-py"
  },
  "language_info": {
   "codemirror_mode": {
    "name": "ipython",
    "version": 3
   },
   "file_extension": ".py",
   "mimetype": "text/x-python",
   "name": "python",
   "nbconvert_exporter": "python",
   "pygments_lexer": "ipython3",
   "version": "3.7.12"
  }
 },
 "nbformat": 4,
 "nbformat_minor": 5
}
